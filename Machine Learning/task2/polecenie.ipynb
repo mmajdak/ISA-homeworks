{
 "cells": [
  {
   "cell_type": "markdown",
   "metadata": {},
   "source": [
    "##### Zadanie Domowe\n",
    "\n",
    "Poniżej podany jest zestaw danych. Zawiera on brakujące wartości. Twoim zadaniem jest przygotować ten zestaw danych do obróbki a następnie wytrenować klasyfikator przewidujący choroby serca dobierając ilość kroków oraz learning rate.\n",
    "\n",
    "Wartością docelową jest `num`\n",
    "\n",
    "Twoim celem jest odrzucenie zmiennych charakteryzujących się dużą ilością wartości brakujących oraz uzupełnienie pozostałych kolumn. Użyj do tego na przykład funkcji `pd.DataFrame.isna`, `pd.DataFrame.sum` oraz metody `pd.Series.fillna`.\n",
    "\n",
    "Użyj metody `xgb.cv` do ustalenia przebiegu treningu. Postaraj się dobrać takie wartości ilości kroków oraz learning rate aby uniknąć przeuczenia (overfitu) w końcowym modelu. Zacznij od learning rate `0.01`. Kiedy klasyfikator zostanie przetrenowany, użyj wykresu błędu w zależności od ilości kroków aby wyznaczyć przybliżoną optymalną ilość drzew dla danego modelu i wytrenuj ostateczny model.\n",
    "\n",
    "Dodatkowe info: `xgb` obsługuje brakujące wartości przez parametr `missing`. Możesz (nie musisz) użyć tego zamiast interpolacji brakujących wartości."
   ]
  },
  {
   "cell_type": "code",
   "execution_count": 1,
   "metadata": {},
   "outputs": [
    {
     "name": "stdout",
     "output_type": "stream",
     "text": [
      "<class 'pandas.core.frame.DataFrame'>\n",
      "RangeIndex: 294 entries, 0 to 293\n",
      "Data columns (total 14 columns):\n",
      " #   Column      Non-Null Count  Dtype  \n",
      "---  ------      --------------  -----  \n",
      " 0   age         294 non-null    int64  \n",
      " 1   sex         294 non-null    int64  \n",
      " 2   cp          294 non-null    int64  \n",
      " 3   trestbps    294 non-null    object \n",
      " 4   chol        294 non-null    object \n",
      " 5   fbs         294 non-null    object \n",
      " 6   restecg     294 non-null    object \n",
      " 7   thalach     294 non-null    object \n",
      " 8   exang       294 non-null    object \n",
      " 9   oldpeak     294 non-null    float64\n",
      " 10  slope       294 non-null    object \n",
      " 11  ca          294 non-null    object \n",
      " 12  thal        294 non-null    object \n",
      " 13  num         294 non-null    int64  \n",
      "dtypes: float64(1), int64(4), object(9)\n",
      "memory usage: 32.3+ KB\n"
     ]
    }
   ],
   "source": [
    "import pandas as pd\n",
    "import numpy as np\n",
    "\n",
    "data = pd.read_csv(\"heart.csv\")\n",
    "data.info()"
   ]
  },
  {
   "cell_type": "markdown",
   "metadata": {},
   "source": [
    "### Sprawdzenie braków danych"
   ]
  },
  {
   "cell_type": "code",
   "execution_count": 2,
   "metadata": {},
   "outputs": [],
   "source": [
    "# Wstępne info podaje, że w danych nie mam nulli, ale to zapewne spowodowane jest tym, \n",
    "# że większość kolumn jest typu object. Po obejrzeniu danych widać, że mamy tam dużo znaków zapytania.\n",
    "# Poniżej kod którym sprawdzam ich dokładną ilość w każdej kolumnie.\n",
    "\n",
    "feats = data.columns.to_list()"
   ]
  },
  {
   "cell_type": "code",
   "execution_count": 3,
   "metadata": {
    "scrolled": false
   },
   "outputs": [
    {
     "name": "stdout",
     "output_type": "stream",
     "text": [
      "\n",
      " * * * * * *\n",
      "['age']\n",
      "nie ma '?'\n",
      "\n",
      " * * * * * *\n",
      "['sex']\n",
      "nie ma '?'\n",
      "\n",
      " * * * * * *\n",
      "['cp']\n",
      "nie ma '?'\n",
      "\n",
      " * * * * * *\n",
      "['trestbps']\n",
      "ilość braków w kolumnie: 1\n",
      "\n",
      " * * * * * *\n",
      "['chol']\n",
      "ilość braków w kolumnie: 23\n",
      "\n",
      " * * * * * *\n",
      "['fbs']\n",
      "ilość braków w kolumnie: 8\n",
      "\n",
      " * * * * * *\n",
      "['restecg']\n",
      "ilość braków w kolumnie: 1\n",
      "\n",
      " * * * * * *\n",
      "['thalach']\n",
      "ilość braków w kolumnie: 1\n",
      "\n",
      " * * * * * *\n",
      "['exang']\n",
      "ilość braków w kolumnie: 1\n",
      "\n",
      " * * * * * *\n",
      "['oldpeak']\n",
      "nie ma '?'\n",
      "\n",
      " * * * * * *\n",
      "['slope']\n",
      "ilość braków w kolumnie: 190\n",
      "\n",
      " * * * * * *\n",
      "['ca']\n",
      "ilość braków w kolumnie: 291\n",
      "\n",
      " * * * * * *\n",
      "['thal']\n",
      "ilość braków w kolumnie: 266\n",
      "\n",
      " * * * * * *\n",
      "['num       ']\n",
      "nie ma '?'\n"
     ]
    }
   ],
   "source": [
    "for i in feats:\n",
    "    print(f\"\\n * * * * * *\")\n",
    "    print([i])\n",
    "    vc_dict = data[i].value_counts().to_dict()\n",
    "    try:\n",
    "        print(f\"ilość braków w kolumnie: {vc_dict['?']}\")\n",
    "    except KeyError:\n",
    "        print(\"nie ma '?'\")"
   ]
  },
  {
   "cell_type": "markdown",
   "metadata": {},
   "source": [
    "### Obsługa kolumn z brakami danych"
   ]
  },
  {
   "cell_type": "code",
   "execution_count": 4,
   "metadata": {},
   "outputs": [],
   "source": [
    "# usuniecie ostatniej kolumny z białymi znakami i zastąpienie ją kolumną bez takich znaków\n",
    "data['num'] = data['num       ']"
   ]
  },
  {
   "cell_type": "code",
   "execution_count": 5,
   "metadata": {},
   "outputs": [],
   "source": [
    "# odrzucenie trzech kolumn (oraz kolumny z białymi zn.), w których braki danych są zbyt duże \n",
    "# i sięgają wartości od 64% w górę - kolumny 'slope', 'ca', 'thal'\n",
    "\n",
    "data = data.drop(columns=['num       ', 'slope', 'ca', 'thal'], axis=1)"
   ]
  },
  {
   "cell_type": "code",
   "execution_count": 6,
   "metadata": {},
   "outputs": [],
   "source": [
    "# zmiana '?' na NaN, aby można było te kolumny przekształcić w liczby zmienno-przecinkowe\n",
    "\n",
    "data = data.replace(['?'], 'NaN')"
   ]
  },
  {
   "cell_type": "code",
   "execution_count": 7,
   "metadata": {},
   "outputs": [
    {
     "data": {
      "text/plain": [
       "['trestbps', 'chol', 'fbs', 'restecg', 'thalach', 'exang']"
      ]
     },
     "execution_count": 7,
     "metadata": {},
     "output_type": "execute_result"
    }
   ],
   "source": [
    "feats2 = feats[3:9]\n",
    "feats2"
   ]
  },
  {
   "cell_type": "code",
   "execution_count": 8,
   "metadata": {},
   "outputs": [],
   "source": [
    "for i in range(0, len(feats2)):\n",
    "    data[feats2[i]] = data[feats2[i]].astype('float64')"
   ]
  },
  {
   "cell_type": "code",
   "execution_count": 9,
   "metadata": {},
   "outputs": [
    {
     "data": {
      "text/html": [
       "<div>\n",
       "<style scoped>\n",
       "    .dataframe tbody tr th:only-of-type {\n",
       "        vertical-align: middle;\n",
       "    }\n",
       "\n",
       "    .dataframe tbody tr th {\n",
       "        vertical-align: top;\n",
       "    }\n",
       "\n",
       "    .dataframe thead th {\n",
       "        text-align: right;\n",
       "    }\n",
       "</style>\n",
       "<table border=\"1\" class=\"dataframe\">\n",
       "  <thead>\n",
       "    <tr style=\"text-align: right;\">\n",
       "      <th></th>\n",
       "      <th>age</th>\n",
       "      <th>sex</th>\n",
       "      <th>cp</th>\n",
       "      <th>trestbps</th>\n",
       "      <th>chol</th>\n",
       "      <th>fbs</th>\n",
       "      <th>restecg</th>\n",
       "      <th>thalach</th>\n",
       "      <th>exang</th>\n",
       "      <th>oldpeak</th>\n",
       "      <th>num</th>\n",
       "    </tr>\n",
       "  </thead>\n",
       "  <tbody>\n",
       "    <tr>\n",
       "      <th>0</th>\n",
       "      <td>28</td>\n",
       "      <td>1</td>\n",
       "      <td>2</td>\n",
       "      <td>130.0</td>\n",
       "      <td>132.0</td>\n",
       "      <td>0.0</td>\n",
       "      <td>2.0</td>\n",
       "      <td>185.0</td>\n",
       "      <td>0.0</td>\n",
       "      <td>0.0</td>\n",
       "      <td>0</td>\n",
       "    </tr>\n",
       "    <tr>\n",
       "      <th>1</th>\n",
       "      <td>29</td>\n",
       "      <td>1</td>\n",
       "      <td>2</td>\n",
       "      <td>120.0</td>\n",
       "      <td>243.0</td>\n",
       "      <td>0.0</td>\n",
       "      <td>0.0</td>\n",
       "      <td>160.0</td>\n",
       "      <td>0.0</td>\n",
       "      <td>0.0</td>\n",
       "      <td>0</td>\n",
       "    </tr>\n",
       "    <tr>\n",
       "      <th>2</th>\n",
       "      <td>29</td>\n",
       "      <td>1</td>\n",
       "      <td>2</td>\n",
       "      <td>140.0</td>\n",
       "      <td>NaN</td>\n",
       "      <td>0.0</td>\n",
       "      <td>0.0</td>\n",
       "      <td>170.0</td>\n",
       "      <td>0.0</td>\n",
       "      <td>0.0</td>\n",
       "      <td>0</td>\n",
       "    </tr>\n",
       "    <tr>\n",
       "      <th>3</th>\n",
       "      <td>30</td>\n",
       "      <td>0</td>\n",
       "      <td>1</td>\n",
       "      <td>170.0</td>\n",
       "      <td>237.0</td>\n",
       "      <td>0.0</td>\n",
       "      <td>1.0</td>\n",
       "      <td>170.0</td>\n",
       "      <td>0.0</td>\n",
       "      <td>0.0</td>\n",
       "      <td>0</td>\n",
       "    </tr>\n",
       "    <tr>\n",
       "      <th>4</th>\n",
       "      <td>31</td>\n",
       "      <td>0</td>\n",
       "      <td>2</td>\n",
       "      <td>100.0</td>\n",
       "      <td>219.0</td>\n",
       "      <td>0.0</td>\n",
       "      <td>1.0</td>\n",
       "      <td>150.0</td>\n",
       "      <td>0.0</td>\n",
       "      <td>0.0</td>\n",
       "      <td>0</td>\n",
       "    </tr>\n",
       "    <tr>\n",
       "      <th>...</th>\n",
       "      <td>...</td>\n",
       "      <td>...</td>\n",
       "      <td>...</td>\n",
       "      <td>...</td>\n",
       "      <td>...</td>\n",
       "      <td>...</td>\n",
       "      <td>...</td>\n",
       "      <td>...</td>\n",
       "      <td>...</td>\n",
       "      <td>...</td>\n",
       "      <td>...</td>\n",
       "    </tr>\n",
       "    <tr>\n",
       "      <th>289</th>\n",
       "      <td>52</td>\n",
       "      <td>1</td>\n",
       "      <td>4</td>\n",
       "      <td>160.0</td>\n",
       "      <td>331.0</td>\n",
       "      <td>0.0</td>\n",
       "      <td>0.0</td>\n",
       "      <td>94.0</td>\n",
       "      <td>1.0</td>\n",
       "      <td>2.5</td>\n",
       "      <td>1</td>\n",
       "    </tr>\n",
       "    <tr>\n",
       "      <th>290</th>\n",
       "      <td>54</td>\n",
       "      <td>0</td>\n",
       "      <td>3</td>\n",
       "      <td>130.0</td>\n",
       "      <td>294.0</td>\n",
       "      <td>0.0</td>\n",
       "      <td>1.0</td>\n",
       "      <td>100.0</td>\n",
       "      <td>1.0</td>\n",
       "      <td>0.0</td>\n",
       "      <td>1</td>\n",
       "    </tr>\n",
       "    <tr>\n",
       "      <th>291</th>\n",
       "      <td>56</td>\n",
       "      <td>1</td>\n",
       "      <td>4</td>\n",
       "      <td>155.0</td>\n",
       "      <td>342.0</td>\n",
       "      <td>1.0</td>\n",
       "      <td>0.0</td>\n",
       "      <td>150.0</td>\n",
       "      <td>1.0</td>\n",
       "      <td>3.0</td>\n",
       "      <td>1</td>\n",
       "    </tr>\n",
       "    <tr>\n",
       "      <th>292</th>\n",
       "      <td>58</td>\n",
       "      <td>0</td>\n",
       "      <td>2</td>\n",
       "      <td>180.0</td>\n",
       "      <td>393.0</td>\n",
       "      <td>0.0</td>\n",
       "      <td>0.0</td>\n",
       "      <td>110.0</td>\n",
       "      <td>1.0</td>\n",
       "      <td>1.0</td>\n",
       "      <td>1</td>\n",
       "    </tr>\n",
       "    <tr>\n",
       "      <th>293</th>\n",
       "      <td>65</td>\n",
       "      <td>1</td>\n",
       "      <td>4</td>\n",
       "      <td>130.0</td>\n",
       "      <td>275.0</td>\n",
       "      <td>0.0</td>\n",
       "      <td>1.0</td>\n",
       "      <td>115.0</td>\n",
       "      <td>1.0</td>\n",
       "      <td>1.0</td>\n",
       "      <td>1</td>\n",
       "    </tr>\n",
       "  </tbody>\n",
       "</table>\n",
       "<p>294 rows × 11 columns</p>\n",
       "</div>"
      ],
      "text/plain": [
       "     age  sex  cp  trestbps   chol  fbs  restecg  thalach  exang  oldpeak  num\n",
       "0     28    1   2     130.0  132.0  0.0      2.0    185.0    0.0      0.0    0\n",
       "1     29    1   2     120.0  243.0  0.0      0.0    160.0    0.0      0.0    0\n",
       "2     29    1   2     140.0    NaN  0.0      0.0    170.0    0.0      0.0    0\n",
       "3     30    0   1     170.0  237.0  0.0      1.0    170.0    0.0      0.0    0\n",
       "4     31    0   2     100.0  219.0  0.0      1.0    150.0    0.0      0.0    0\n",
       "..   ...  ...  ..       ...    ...  ...      ...      ...    ...      ...  ...\n",
       "289   52    1   4     160.0  331.0  0.0      0.0     94.0    1.0      2.5    1\n",
       "290   54    0   3     130.0  294.0  0.0      1.0    100.0    1.0      0.0    1\n",
       "291   56    1   4     155.0  342.0  1.0      0.0    150.0    1.0      3.0    1\n",
       "292   58    0   2     180.0  393.0  0.0      0.0    110.0    1.0      1.0    1\n",
       "293   65    1   4     130.0  275.0  0.0      1.0    115.0    1.0      1.0    1\n",
       "\n",
       "[294 rows x 11 columns]"
      ]
     },
     "execution_count": 9,
     "metadata": {},
     "output_type": "execute_result"
    }
   ],
   "source": [
    "data"
   ]
  },
  {
   "cell_type": "markdown",
   "metadata": {},
   "source": [
    "### Uzupełnianie braków"
   ]
  },
  {
   "cell_type": "code",
   "execution_count": 10,
   "metadata": {},
   "outputs": [],
   "source": [
    "# Do kolumny 'trestbps' (1 brak wartości) zostanie dodana średnia, w tym przypadku policzona na zbiorze zdrowych pacjentów\n",
    "\n",
    "health = data[data['num'] == 0]\n",
    "sick = data[data['num'] == 1]\n",
    "data['trestbps'] = data['trestbps'].fillna(round(health['trestbps'].mean()))"
   ]
  },
  {
   "cell_type": "code",
   "execution_count": 11,
   "metadata": {},
   "outputs": [],
   "source": [
    "# Do kolumny 'thalach' (1 brak) zostanie dodana wartość średniej - tu także ze zbioru zdrowych pacjentów\n",
    "\n",
    "data['thalach'] = data['thalach'].fillna(round(health['thalach'].mean()))"
   ]
  },
  {
   "cell_type": "code",
   "execution_count": 12,
   "metadata": {},
   "outputs": [],
   "source": [
    "# Kolumna 'exang' (1 brak), wartość przyjmująca zero lub jeden, więc tu liczenie średniej nie ma sensu -\n",
    "# - dodana zostanie mediana - w tym przypadku policzona na zbiorze zdrowych\n",
    "\n",
    "exang_dict = (health['exang']).describe().to_dict()\n",
    "data['exang'] = data['exang'].fillna(exang_dict['50%'])"
   ]
  },
  {
   "cell_type": "code",
   "execution_count": 13,
   "metadata": {},
   "outputs": [],
   "source": [
    "# Ostatnia kolumna z mały brakiem - 'restecg'. W tym przypadku dotyczy pacjenta chorego. \n",
    "# Ze zbioru chorych dodana mediana (wartości zero lub jeden).\n",
    "\n",
    "restecg_dict = (sick['restecg']).describe().to_dict()\n",
    "data['restecg'] = data['restecg'].fillna(restecg_dict['50%'])"
   ]
  },
  {
   "cell_type": "code",
   "execution_count": 14,
   "metadata": {},
   "outputs": [],
   "source": [
    "# Poniżej inputacja dla kolumny 'chol', w której brakowało 23 rekorków. W tym przypadku uzupełnione zostanie to średnią. \n",
    "# Dla zbioru zdrowych wartość 240, a dla chorych 269:"
   ]
  },
  {
   "cell_type": "code",
   "execution_count": 15,
   "metadata": {},
   "outputs": [
    {
     "data": {
      "text/plain": [
       "count    170.000000\n",
       "mean     239.952941\n",
       "std       56.694532\n",
       "min       85.000000\n",
       "25%      201.000000\n",
       "50%      230.000000\n",
       "75%      275.000000\n",
       "max      468.000000\n",
       "Name: chol, dtype: float64"
      ]
     },
     "execution_count": 15,
     "metadata": {},
     "output_type": "execute_result"
    }
   ],
   "source": [
    "health['chol'].describe()"
   ]
  },
  {
   "cell_type": "code",
   "execution_count": 16,
   "metadata": {},
   "outputs": [
    {
     "data": {
      "text/plain": [
       "count    101.000000\n",
       "mean     269.188119\n",
       "std       79.911165\n",
       "min      117.000000\n",
       "25%      219.000000\n",
       "50%      263.000000\n",
       "75%      291.000000\n",
       "max      603.000000\n",
       "Name: chol, dtype: float64"
      ]
     },
     "execution_count": 16,
     "metadata": {},
     "output_type": "execute_result"
    }
   ],
   "source": [
    "sick['chol'].describe()"
   ]
  },
  {
   "cell_type": "code",
   "execution_count": 17,
   "metadata": {},
   "outputs": [],
   "source": [
    "for i in range(0, len(data)):\n",
    "    if data['chol'].loc[i] == 'Nan' and data['num'] == 0:\n",
    "        data['chol'] = data['chol'].fillna(240)\n",
    "    else:\n",
    "        data['chol'] = data['chol'].fillna(269)"
   ]
  },
  {
   "cell_type": "code",
   "execution_count": 18,
   "metadata": {},
   "outputs": [],
   "source": [
    "# Poniżej inputacja dla ostatniej kolumny, w której są braki 'fbs'. W tej kolumnie czynnik przyjmuje wartość zero lub jeden.\n",
    "# Sprawdzenie mediany dla zbioru zdrowych oraz chorych - w obu przypadkach wynosi ona zera i taka wartość będzie wstawiona."
   ]
  },
  {
   "cell_type": "code",
   "execution_count": 19,
   "metadata": {},
   "outputs": [
    {
     "data": {
      "text/plain": [
       "count    182.000000\n",
       "mean       0.038462\n",
       "std        0.192838\n",
       "min        0.000000\n",
       "25%        0.000000\n",
       "50%        0.000000\n",
       "75%        0.000000\n",
       "max        1.000000\n",
       "Name: fbs, dtype: float64"
      ]
     },
     "execution_count": 19,
     "metadata": {},
     "output_type": "execute_result"
    }
   ],
   "source": [
    "health['fbs'].describe()"
   ]
  },
  {
   "cell_type": "code",
   "execution_count": 20,
   "metadata": {},
   "outputs": [
    {
     "data": {
      "text/plain": [
       "count    104.00000\n",
       "mean       0.12500\n",
       "std        0.33232\n",
       "min        0.00000\n",
       "25%        0.00000\n",
       "50%        0.00000\n",
       "75%        0.00000\n",
       "max        1.00000\n",
       "Name: fbs, dtype: float64"
      ]
     },
     "execution_count": 20,
     "metadata": {},
     "output_type": "execute_result"
    }
   ],
   "source": [
    "sick['fbs'].describe()"
   ]
  },
  {
   "cell_type": "code",
   "execution_count": 21,
   "metadata": {},
   "outputs": [],
   "source": [
    "data['fbs'] = data['fbs'].fillna(0)"
   ]
  },
  {
   "cell_type": "code",
   "execution_count": 22,
   "metadata": {},
   "outputs": [],
   "source": [
    "# Po skończonym uzupełnianiu - kolumny, które były inputowane zostaną zamienione na typ 'int64', \n",
    "# ponieważ wszystkie posiadają liczby w całkowite. W całym zbiorze danych tylko 'oldpeak' posiada 'float64'."
   ]
  },
  {
   "cell_type": "code",
   "execution_count": 23,
   "metadata": {},
   "outputs": [],
   "source": [
    "for i in range(0, len(feats2)):\n",
    "    data[feats2[i]] = data[feats2[i]].astype('int64')"
   ]
  },
  {
   "cell_type": "code",
   "execution_count": 24,
   "metadata": {},
   "outputs": [
    {
     "name": "stdout",
     "output_type": "stream",
     "text": [
      "<class 'pandas.core.frame.DataFrame'>\n",
      "RangeIndex: 294 entries, 0 to 293\n",
      "Data columns (total 11 columns):\n",
      " #   Column    Non-Null Count  Dtype  \n",
      "---  ------    --------------  -----  \n",
      " 0   age       294 non-null    int64  \n",
      " 1   sex       294 non-null    int64  \n",
      " 2   cp        294 non-null    int64  \n",
      " 3   trestbps  294 non-null    int64  \n",
      " 4   chol      294 non-null    int64  \n",
      " 5   fbs       294 non-null    int64  \n",
      " 6   restecg   294 non-null    int64  \n",
      " 7   thalach   294 non-null    int64  \n",
      " 8   exang     294 non-null    int64  \n",
      " 9   oldpeak   294 non-null    float64\n",
      " 10  num       294 non-null    int64  \n",
      "dtypes: float64(1), int64(10)\n",
      "memory usage: 25.4 KB\n"
     ]
    }
   ],
   "source": [
    "data.info()"
   ]
  },
  {
   "cell_type": "markdown",
   "metadata": {},
   "source": [
    "### Zdefiniowanie zmiennej objaśnianej, import bibliotek"
   ]
  },
  {
   "cell_type": "code",
   "execution_count": 25,
   "metadata": {},
   "outputs": [],
   "source": [
    "y = data['num']\n",
    "X = data.drop(['num'], axis=1)"
   ]
  },
  {
   "cell_type": "code",
   "execution_count": 26,
   "metadata": {},
   "outputs": [],
   "source": [
    "import xgboost as xgb\n",
    "import matplotlib.pyplot as plt"
   ]
  },
  {
   "cell_type": "code",
   "execution_count": 27,
   "metadata": {},
   "outputs": [],
   "source": [
    "data_dm = xgb.DMatrix(data=X.values, label=y.values)"
   ]
  },
  {
   "cell_type": "code",
   "execution_count": 28,
   "metadata": {},
   "outputs": [],
   "source": [
    "params = {\"objective\":\"reg:logistic\", \"max_depth\":3, \"learning_rate\": 0.01, \"reg_alpha\": 1}"
   ]
  },
  {
   "cell_type": "code",
   "execution_count": 29,
   "metadata": {},
   "outputs": [
    {
     "data": {
      "text/html": [
       "<div>\n",
       "<style scoped>\n",
       "    .dataframe tbody tr th:only-of-type {\n",
       "        vertical-align: middle;\n",
       "    }\n",
       "\n",
       "    .dataframe tbody tr th {\n",
       "        vertical-align: top;\n",
       "    }\n",
       "\n",
       "    .dataframe thead th {\n",
       "        text-align: right;\n",
       "    }\n",
       "</style>\n",
       "<table border=\"1\" class=\"dataframe\">\n",
       "  <thead>\n",
       "    <tr style=\"text-align: right;\">\n",
       "      <th></th>\n",
       "      <th>train-error-mean</th>\n",
       "      <th>train-error-std</th>\n",
       "      <th>train-auc-mean</th>\n",
       "      <th>train-auc-std</th>\n",
       "      <th>test-error-mean</th>\n",
       "      <th>test-error-std</th>\n",
       "      <th>test-auc-mean</th>\n",
       "      <th>test-auc-std</th>\n",
       "    </tr>\n",
       "  </thead>\n",
       "  <tbody>\n",
       "    <tr>\n",
       "      <th>0</th>\n",
       "      <td>0.149651</td>\n",
       "      <td>0.004196</td>\n",
       "      <td>0.887367</td>\n",
       "      <td>0.014802</td>\n",
       "      <td>0.210616</td>\n",
       "      <td>0.051894</td>\n",
       "      <td>0.816464</td>\n",
       "      <td>0.063904</td>\n",
       "    </tr>\n",
       "    <tr>\n",
       "      <th>1</th>\n",
       "      <td>0.147378</td>\n",
       "      <td>0.007223</td>\n",
       "      <td>0.887146</td>\n",
       "      <td>0.012974</td>\n",
       "      <td>0.210616</td>\n",
       "      <td>0.051894</td>\n",
       "      <td>0.821217</td>\n",
       "      <td>0.064697</td>\n",
       "    </tr>\n",
       "    <tr>\n",
       "      <th>2</th>\n",
       "      <td>0.147378</td>\n",
       "      <td>0.007223</td>\n",
       "      <td>0.887146</td>\n",
       "      <td>0.012974</td>\n",
       "      <td>0.210616</td>\n",
       "      <td>0.051894</td>\n",
       "      <td>0.821217</td>\n",
       "      <td>0.064697</td>\n",
       "    </tr>\n",
       "    <tr>\n",
       "      <th>3</th>\n",
       "      <td>0.147378</td>\n",
       "      <td>0.007223</td>\n",
       "      <td>0.889055</td>\n",
       "      <td>0.015537</td>\n",
       "      <td>0.210616</td>\n",
       "      <td>0.051894</td>\n",
       "      <td>0.834992</td>\n",
       "      <td>0.048347</td>\n",
       "    </tr>\n",
       "    <tr>\n",
       "      <th>4</th>\n",
       "      <td>0.147378</td>\n",
       "      <td>0.007223</td>\n",
       "      <td>0.889055</td>\n",
       "      <td>0.015537</td>\n",
       "      <td>0.210616</td>\n",
       "      <td>0.051894</td>\n",
       "      <td>0.834992</td>\n",
       "      <td>0.048347</td>\n",
       "    </tr>\n",
       "    <tr>\n",
       "      <th>...</th>\n",
       "      <td>...</td>\n",
       "      <td>...</td>\n",
       "      <td>...</td>\n",
       "      <td>...</td>\n",
       "      <td>...</td>\n",
       "      <td>...</td>\n",
       "      <td>...</td>\n",
       "      <td>...</td>\n",
       "    </tr>\n",
       "    <tr>\n",
       "      <th>95</th>\n",
       "      <td>0.146236</td>\n",
       "      <td>0.011438</td>\n",
       "      <td>0.934454</td>\n",
       "      <td>0.006887</td>\n",
       "      <td>0.210663</td>\n",
       "      <td>0.047657</td>\n",
       "      <td>0.860869</td>\n",
       "      <td>0.049349</td>\n",
       "    </tr>\n",
       "    <tr>\n",
       "      <th>96</th>\n",
       "      <td>0.146236</td>\n",
       "      <td>0.011438</td>\n",
       "      <td>0.934822</td>\n",
       "      <td>0.007167</td>\n",
       "      <td>0.210663</td>\n",
       "      <td>0.047657</td>\n",
       "      <td>0.860513</td>\n",
       "      <td>0.049608</td>\n",
       "    </tr>\n",
       "    <tr>\n",
       "      <th>97</th>\n",
       "      <td>0.146236</td>\n",
       "      <td>0.011438</td>\n",
       "      <td>0.934602</td>\n",
       "      <td>0.007242</td>\n",
       "      <td>0.210663</td>\n",
       "      <td>0.047657</td>\n",
       "      <td>0.860757</td>\n",
       "      <td>0.049098</td>\n",
       "    </tr>\n",
       "    <tr>\n",
       "      <th>98</th>\n",
       "      <td>0.146236</td>\n",
       "      <td>0.011438</td>\n",
       "      <td>0.935363</td>\n",
       "      <td>0.007492</td>\n",
       "      <td>0.210663</td>\n",
       "      <td>0.047657</td>\n",
       "      <td>0.862852</td>\n",
       "      <td>0.048694</td>\n",
       "    </tr>\n",
       "    <tr>\n",
       "      <th>99</th>\n",
       "      <td>0.143974</td>\n",
       "      <td>0.011499</td>\n",
       "      <td>0.935191</td>\n",
       "      <td>0.007265</td>\n",
       "      <td>0.210663</td>\n",
       "      <td>0.047657</td>\n",
       "      <td>0.863521</td>\n",
       "      <td>0.048492</td>\n",
       "    </tr>\n",
       "  </tbody>\n",
       "</table>\n",
       "<p>100 rows × 8 columns</p>\n",
       "</div>"
      ],
      "text/plain": [
       "    train-error-mean  train-error-std  train-auc-mean  train-auc-std  \\\n",
       "0           0.149651         0.004196        0.887367       0.014802   \n",
       "1           0.147378         0.007223        0.887146       0.012974   \n",
       "2           0.147378         0.007223        0.887146       0.012974   \n",
       "3           0.147378         0.007223        0.889055       0.015537   \n",
       "4           0.147378         0.007223        0.889055       0.015537   \n",
       "..               ...              ...             ...            ...   \n",
       "95          0.146236         0.011438        0.934454       0.006887   \n",
       "96          0.146236         0.011438        0.934822       0.007167   \n",
       "97          0.146236         0.011438        0.934602       0.007242   \n",
       "98          0.146236         0.011438        0.935363       0.007492   \n",
       "99          0.143974         0.011499        0.935191       0.007265   \n",
       "\n",
       "    test-error-mean  test-error-std  test-auc-mean  test-auc-std  \n",
       "0          0.210616        0.051894       0.816464      0.063904  \n",
       "1          0.210616        0.051894       0.821217      0.064697  \n",
       "2          0.210616        0.051894       0.821217      0.064697  \n",
       "3          0.210616        0.051894       0.834992      0.048347  \n",
       "4          0.210616        0.051894       0.834992      0.048347  \n",
       "..              ...             ...            ...           ...  \n",
       "95         0.210663        0.047657       0.860869      0.049349  \n",
       "96         0.210663        0.047657       0.860513      0.049608  \n",
       "97         0.210663        0.047657       0.860757      0.049098  \n",
       "98         0.210663        0.047657       0.862852      0.048694  \n",
       "99         0.210663        0.047657       0.863521      0.048492  \n",
       "\n",
       "[100 rows x 8 columns]"
      ]
     },
     "execution_count": 29,
     "metadata": {},
     "output_type": "execute_result"
    }
   ],
   "source": [
    "cv_results = xgb.cv(dtrain=data_dm, params=params, nfold=4, num_boost_round=100, \n",
    "                            metrics=[\"error\", \"auc\"], as_pandas=True, seed=123) #nfold - liczba cv\n",
    "cv_results"
   ]
  },
  {
   "cell_type": "code",
   "execution_count": 30,
   "metadata": {},
   "outputs": [
    {
     "data": {
      "text/plain": [
       "Text(0, 0.5, 'Wartość funkcji błędu')"
      ]
     },
     "execution_count": 30,
     "metadata": {},
     "output_type": "execute_result"
    },
    {
     "data": {
      "image/png": "[encoded data removed]",
      "text/plain": [
       "<Figure size 1080x504 with 1 Axes>"
      ]
     },
     "metadata": {
      "needs_background": "light"
     },
     "output_type": "display_data"
    }
   ],
   "source": [
    "plt.figure(figsize=(15, 7))\n",
    "plt.title(\"Błąd na danych treningowych i testowych\")\n",
    "plt.plot(cv_results[\"train-error-mean\"], color=\"b\")\n",
    "plt.plot(cv_results[\"test-error-mean\"], color=\"r\")\n",
    "plt.hlines([cv_results[\"test-error-mean\"].min()], xmin=0, xmax=100, color=\"g\")\n",
    "plt.xlabel(\"Ilość klasyfikatorów\")\n",
    "plt.ylabel(\"Wartość funkcji błędu\")"
   ]
  },
  {
   "cell_type": "code",
   "execution_count": 31,
   "metadata": {},
   "outputs": [
    {
     "data": {
      "text/plain": [
       "Text(0, 0.5, 'Wartość auc')"
      ]
     },
     "execution_count": 31,
     "metadata": {},
     "output_type": "execute_result"
    },
    {
     "data": {
      "image/png": "[encoded data removed]",
      "text/plain": [
       "<Figure size 1080x504 with 1 Axes>"
      ]
     },
     "metadata": {
      "needs_background": "light"
     },
     "output_type": "display_data"
    }
   ],
   "source": [
    "plt.figure(figsize=(15, 7))\n",
    "plt.title(\"Błąd na danych treningowych i testowych\")\n",
    "plt.plot(cv_results[\"train-auc-mean\"], color=\"b\")\n",
    "plt.plot(cv_results[\"test-auc-mean\"], color=\"r\")\n",
    "plt.xlabel(\"Ilość klasyfikatorów\")\n",
    "plt.ylabel(\"Wartość auc\")"
   ]
  },
  {
   "cell_type": "markdown",
   "metadata": {},
   "source": [
    "Powyżej widzimy, że dla parametru `learning_rate = 0.01` crossvalidation daje na zbiorze testowym dość przeciętny wynik błędu - w tym przypadku minimalny przyjmuje wartość około `0.21` (minimalny błąd został na pierwszym wykresie zaznaczony zieloną linią). Dlatego też poniżej przeprowadzono analizę jak wpływa dobór parametru `learning rate` na wyniki modelu."
   ]
  },
  {
   "cell_type": "code",
   "execution_count": 32,
   "metadata": {},
   "outputs": [],
   "source": [
    "lr_array = [0.5, 0.3, 0.1, 0.05, 0.03, 0.01, 0.003, 0.001]"
   ]
  },
  {
   "cell_type": "code",
   "execution_count": 33,
   "metadata": {},
   "outputs": [
    {
     "name": "stdout",
     "output_type": "stream",
     "text": [
      "{'objective': 'reg:logistic', 'max_depth': 3, 'learning_rate': 0.5, 'reg_alpha': 1}\n",
      "{'objective': 'reg:logistic', 'max_depth': 3, 'learning_rate': 0.3, 'reg_alpha': 1}\n",
      "{'objective': 'reg:logistic', 'max_depth': 3, 'learning_rate': 0.1, 'reg_alpha': 1}\n",
      "{'objective': 'reg:logistic', 'max_depth': 3, 'learning_rate': 0.05, 'reg_alpha': 1}\n",
      "{'objective': 'reg:logistic', 'max_depth': 3, 'learning_rate': 0.03, 'reg_alpha': 1}\n",
      "{'objective': 'reg:logistic', 'max_depth': 3, 'learning_rate': 0.01, 'reg_alpha': 1}\n",
      "{'objective': 'reg:logistic', 'max_depth': 3, 'learning_rate': 0.003, 'reg_alpha': 1}\n",
      "{'objective': 'reg:logistic', 'max_depth': 3, 'learning_rate': 0.001, 'reg_alpha': 1}\n"
     ]
    },
    {
     "data": {
      "image/png": "[encoded data removed]",
      "text/plain": [
       "<Figure size 1080x576 with 1 Axes>"
      ]
     },
     "metadata": {
      "needs_background": "light"
     },
     "output_type": "display_data"
    }
   ],
   "source": [
    "plt.figure(figsize=(15,8))\n",
    "\n",
    "for lr in lr_array:\n",
    "    params['learning_rate'] = lr\n",
    "    print(params)\n",
    "    cv_results = xgb.cv(\n",
    "        dtrain=data_dm,\n",
    "        params=params, \n",
    "        num_boost_round=100,\n",
    "        metrics='auc',\n",
    "        as_pandas=True,\n",
    "        seed=123\n",
    "    )\n",
    "    plt.plot(cv_results['train-auc-mean'])\n",
    "\n",
    "plt.xlabel('Liczba estymatorów')\n",
    "plt.ylabel('Wartość auc')\n",
    "plt.legend(lr_array)\n",
    "plt.show()"
   ]
  },
  {
   "cell_type": "code",
   "execution_count": 34,
   "metadata": {},
   "outputs": [
    {
     "name": "stdout",
     "output_type": "stream",
     "text": [
      "Dla learning_rate 0.5 najlepszy wynik to 0.18707466666666664 po 3 iteracjach\n",
      "Dla learning_rate 0.3 najlepszy wynik to 0.19387766666666664 po 5 iteracjach\n",
      "Dla learning_rate 0.1 najlepszy wynik to 0.18367333333333333 po 10 iteracjach\n",
      "Dla learning_rate 0.05 najlepszy wynik to 0.19047633333333333 po 21 iteracjach\n",
      "Dla learning_rate 0.03 najlepszy wynik to 0.187075 po 37 iteracjach\n",
      "Dla learning_rate 0.01 najlepszy wynik to 0.187075 po 117 iteracjach\n",
      "Dla learning_rate 0.003 najlepszy wynik to 0.20068033333333335 po 63 iteracjach\n",
      "Dla learning_rate 0.001 najlepszy wynik to 0.2040816666666667 po 74 iteracjach\n"
     ]
    }
   ],
   "source": [
    "for learning_rate in lr_array:\n",
    "    params['learning_rate'] = learning_rate\n",
    "#     my_params.update(params)\n",
    "    cv_results = xgb.cv(\n",
    "        dtrain=data_dm, \n",
    "        params=params, \n",
    "        nfold=3, \n",
    "        num_boost_round=150, metrics=[\"error\"], as_pandas=True)\n",
    "    best_rounds = cv_results[\"test-error-mean\"].argmin()\n",
    "    score = cv_results[\"test-error-mean\"].min()\n",
    "    print(\"Dla learning_rate {} najlepszy wynik to {} po {} iteracjach\".format(\n",
    "        learning_rate, score, best_rounds\n",
    "    ))"
   ]
  },
  {
   "cell_type": "markdown",
   "metadata": {},
   "source": [
    "Z powyższych wynika, że najbardziej optymalna wartość dla parametru `learning_rate to 0.1`. Wartości od 0.3 do góry mają dobre wyniki już po kilku iteracjach, ale zapewne prowadzi to do przeuczenia modelu."
   ]
  },
  {
   "cell_type": "code",
   "execution_count": 35,
   "metadata": {},
   "outputs": [],
   "source": [
    "params = {\"objective\":\"reg:logistic\", \"max_depth\":3, \"learning_rate\": 0.1, \"reg_alpha\": 1}"
   ]
  },
  {
   "cell_type": "code",
   "execution_count": 36,
   "metadata": {},
   "outputs": [],
   "source": [
    "cv_results = xgb.cv(dtrain=data_dm, params=params, nfold=4, num_boost_round=100, \n",
    "                            metrics=[\"auc\"], as_pandas=True, seed=123)"
   ]
  },
  {
   "cell_type": "code",
   "execution_count": 37,
   "metadata": {},
   "outputs": [
    {
     "data": {
      "text/plain": [
       "Text(0, 0.5, 'Wartość auc')"
      ]
     },
     "execution_count": 37,
     "metadata": {},
     "output_type": "execute_result"
    },
    {
     "data": {
      "image/png": "[encoded data removed]",
      "text/plain": [
       "<Figure size 1080x504 with 1 Axes>"
      ]
     },
     "metadata": {
      "needs_background": "light"
     },
     "output_type": "display_data"
    }
   ],
   "source": [
    "plt.figure(figsize=(15, 7))\n",
    "plt.title(\"Błąd na danych treningowych i testowych\")\n",
    "plt.plot(cv_results[\"train-auc-mean\"], color=\"b\")\n",
    "plt.plot(cv_results[\"test-auc-mean\"], color=\"r\")\n",
    "plt.xlabel(\"Ilość klasyfikatorów\")\n",
    "plt.ylabel(\"Wartość auc\")"
   ]
  },
  {
   "cell_type": "markdown",
   "metadata": {},
   "source": [
    "Powyżej wykrec dla `learning_rate` na poziomie `0.1`. Widać, że dla takiej wartości parametru - najbardziej optymalna `liczba klasyfikatorów` to 20. Powyżej tej wartości, AUC już zaczyna spadać."
   ]
  },
  {
   "cell_type": "markdown",
   "metadata": {},
   "source": [
    "### Inplementacja ostatecznego modelu"
   ]
  },
  {
   "cell_type": "code",
   "execution_count": 69,
   "metadata": {},
   "outputs": [],
   "source": [
    "from sklearn.model_selection import train_test_split, GridSearchCV\n",
    "from sklearn.metrics import classification_report"
   ]
  },
  {
   "cell_type": "code",
   "execution_count": 82,
   "metadata": {},
   "outputs": [],
   "source": [
    "# podział na zbiór testowy i treningowy\n",
    "X_train, X_test, y_train, y_test = train_test_split(X, y, test_size=0.3)"
   ]
  },
  {
   "cell_type": "code",
   "execution_count": 94,
   "metadata": {},
   "outputs": [],
   "source": [
    "# poszukiwanie pozostalych optymalnych parametrow za pomocą GridSearchCV\n",
    "\n",
    "params = {\n",
    "        'max_depth': [3, 4, 5], \n",
    "        'min_child_weight': [1, 5, 10],\n",
    "        'gamma': [0.5, 1, 1.5, 2],\n",
    "        'subsample': [0.6, 0.8],\n",
    "        'colsample_bytree': [0.6, 0.8],\n",
    "        'reg_alpha': [0, 0.3, 0.6, 1], \n",
    "        'reg_lambda': [0, 0.3, 0.6, 1]\n",
    "        }"
   ]
  },
  {
   "cell_type": "code",
   "execution_count": 95,
   "metadata": {},
   "outputs": [],
   "source": [
    "xgb_model = xgb.XGBClassifier(learning_rate=0.1, objective='reg:logistic', n_estimators=20)"
   ]
  },
  {
   "cell_type": "code",
   "execution_count": 96,
   "metadata": {},
   "outputs": [],
   "source": [
    "import warnings\n",
    "warnings.filterwarnings(\"ignore\")"
   ]
  },
  {
   "cell_type": "code",
   "execution_count": 97,
   "metadata": {},
   "outputs": [
    {
     "data": {
      "text/plain": [
       "GridSearchCV(estimator=XGBClassifier(base_score=None, booster=None,\n",
       "                                     colsample_bylevel=None,\n",
       "                                     colsample_bynode=None,\n",
       "                                     colsample_bytree=None,\n",
       "                                     enable_categorical=False, gamma=None,\n",
       "                                     gpu_id=None, importance_type=None,\n",
       "                                     interaction_constraints=None,\n",
       "                                     learning_rate=0.1, max_delta_step=None,\n",
       "                                     max_depth=None, min_child_weight=None,\n",
       "                                     missing=nan, monotone_constraints=None,\n",
       "                                     n_esti...\n",
       "                                     objective='reg:logistic', predictor=None,\n",
       "                                     random_state=None, reg_alpha=None,\n",
       "                                     reg_lambda=None, scale_pos_weight=None,\n",
       "                                     subsample=None, tree_method=None,\n",
       "                                     validate_parameters=None, verbosity=None),\n",
       "             param_grid={'colsample_bytree': [0.6, 0.8],\n",
       "                         'gamma': [0.5, 1, 1.5, 2], 'max_depth': [3, 4, 5],\n",
       "                         'min_child_weight': [1, 5, 10],\n",
       "                         'reg_alpha': [0, 0.3, 0.6, 1],\n",
       "                         'reg_lambda': [0, 0.3, 0.6, 1],\n",
       "                         'subsample': [0.6, 0.8]})"
      ]
     },
     "execution_count": 97,
     "metadata": {},
     "output_type": "execute_result"
    }
   ],
   "source": [
    "grid = GridSearchCV(estimator=xgb_model, param_grid=params)\n",
    "grid.fit(X_train, y_train)"
   ]
  },
  {
   "cell_type": "code",
   "execution_count": 98,
   "metadata": {},
   "outputs": [
    {
     "data": {
      "text/plain": [
       "{'colsample_bytree': 0.6,\n",
       " 'gamma': 1,\n",
       " 'max_depth': 4,\n",
       " 'min_child_weight': 1,\n",
       " 'reg_alpha': 1,\n",
       " 'reg_lambda': 0.3,\n",
       " 'subsample': 0.6}"
      ]
     },
     "execution_count": 98,
     "metadata": {},
     "output_type": "execute_result"
    }
   ],
   "source": [
    "grid.best_params_"
   ]
  },
  {
   "cell_type": "code",
   "execution_count": 99,
   "metadata": {},
   "outputs": [
    {
     "data": {
      "text/plain": [
       "0.8341463414634147"
      ]
     },
     "execution_count": 99,
     "metadata": {},
     "output_type": "execute_result"
    }
   ],
   "source": [
    "grid.best_score_"
   ]
  },
  {
   "cell_type": "code",
   "execution_count": 100,
   "metadata": {},
   "outputs": [
    {
     "data": {
      "text/plain": [
       "XGBClassifier(base_score=0.5, booster='gbtree', colsample_bylevel=1,\n",
       "              colsample_bynode=1, colsample_bytree=0.6,\n",
       "              enable_categorical=False, gamma=1, gpu_id=-1,\n",
       "              importance_type=None, interaction_constraints='',\n",
       "              learning_rate=0.1, max_delta_step=0, max_depth=4,\n",
       "              min_child_weight=1, missing=nan, monotone_constraints='()',\n",
       "              n_estimators=20, n_jobs=8, num_parallel_tree=1,\n",
       "              objective='reg:logistic', predictor='auto', random_state=40,\n",
       "              reg_alpha=1, reg_lambda=0.3, scale_pos_weight=1, subsample=0.6,\n",
       "              tree_method='exact', validate_parameters=1, verbosity=None)"
      ]
     },
     "execution_count": 100,
     "metadata": {},
     "output_type": "execute_result"
    }
   ],
   "source": [
    "xgb_best = xgb.XGBClassifier(**grid.best_params_, learning_rate=0.1, objective='reg:logistic', n_estimators=20, random_state=40)\n",
    "xgb_best.fit(X_train, y_train)"
   ]
  },
  {
   "cell_type": "code",
   "execution_count": 101,
   "metadata": {},
   "outputs": [],
   "source": [
    "y_pred = xgb_best.predict(X_test)"
   ]
  },
  {
   "cell_type": "code",
   "execution_count": 102,
   "metadata": {},
   "outputs": [
    {
     "name": "stdout",
     "output_type": "stream",
     "text": [
      "Raport klasyfikacyjny: \n",
      "               precision    recall  f1-score   support\n",
      "\n",
      "           0       0.92      0.83      0.88        59\n",
      "           1       0.72      0.87      0.79        30\n",
      "\n",
      "    accuracy                           0.84        89\n",
      "   macro avg       0.82      0.85      0.83        89\n",
      "weighted avg       0.86      0.84      0.85        89\n",
      "\n"
     ]
    }
   ],
   "source": [
    "print(\"Raport klasyfikacyjny: \\n\", classification_report(y_test, y_pred))"
   ]
  },
  {
   "cell_type": "markdown",
   "metadata": {},
   "source": [
    "### Podsumowanie\n",
    "Na pierwszy rzut oka, powyższy raport klasyfikacyjny z ostatecznego modelu ma dość dobre wyniki, jednak jeśli uwzględnimy czego dotyczą dane, to raczej będą one niewystarczające, aby powyższy model wdrożyć na produkcję. Dane o pacjentach, którzy chorują lub nie chorują na choroby układu krążenia, to dość delikatny temat i tu raczej margines pomyłki powinien być jak najmniejszy. Wpływ na niedoskonałość modelu, ma z pewnością zbyt mała liczba rekordów (cały dataset zawiera niecałe 300 wersów), więc być może sukcesywne jego zwiększania i aktualizowanie, mogłoby się przyczynić do osiągania lepszych wyników i ponownego rozważenia wdrożenia go na produkcję."
   ]
  },
  {
   "cell_type": "code",
   "execution_count": null,
   "metadata": {},
   "outputs": [],
   "source": []
  }
 ],
 "metadata": {
  "hide_input": false,
  "kernelspec": {
   "display_name": "Python 3",
   "language": "python",
   "name": "python3"
  },
  "language_info": {
   "codemirror_mode": {
    "name": "ipython",
    "version": 3
   },
   "file_extension": ".py",
   "mimetype": "text/x-python",
   "name": "python",
   "nbconvert_exporter": "python",
   "pygments_lexer": "ipython3",
   "version": "3.8.8"
  }
 },
 "nbformat": 4,
 "nbformat_minor": 4
}
