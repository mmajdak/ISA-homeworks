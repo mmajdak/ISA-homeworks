{
 "cells": [
  {
   "cell_type": "markdown",
   "id": "3273c93d",
   "metadata": {},
   "source": [
    "Zadanie - Sklep internetowy (use case)\n",
    "Wyobraź sobie, że jesteś właścicielem sklepu internetowego, oraz magazynu, który przechowuje Twoje produkty. Zdefiniuj jakie produkty chcesz sprzedawać.\n",
    "Zastanów się jak możesz skorzystać z poznanych metod programowania obiektowego w swoim biznesie.\n",
    "Przemyśl jakie cechy charakteryzują Twoje obiekty i jakie metody mogą być dla Ciebie użyteczne.\n",
    "# Zaprojektuj definicje klas Twoich obiektów. Opisz zaprojektowane rozwiązanie i zaimplementuj potrzebne klasy. #"
   ]
  },
  {
   "cell_type": "markdown",
   "id": "011d96af",
   "metadata": {},
   "source": [
    "### Sklep internetowy z podzespołami oraz akcesoriami do komputerów PC ###\n",
    "\n",
    "#### W sklepie dostępne będą podzespoły oraz akcesoria do PC. Jako klasę proponuję produkt, w którym jako pierwsza właściwość to będzie rodzaj sprzedawanego produktu ('type_p') - w tym przypadku: \n",
    "- monitory, \n",
    "- karty grafiki, \n",
    "- karty dźwięku, \n",
    "- akcesoria (myszki, klawiatury, podkładki, pady do gier, etc.)\n",
    "- płyty główne, \n",
    "- pamięci.\n",
    "\n"
   ]
  },
  {
   "cell_type": "code",
   "execution_count": 48,
   "id": "8869b5cd",
   "metadata": {},
   "outputs": [],
   "source": [
    "class Product:\n",
    "    pass"
   ]
  },
  {
   "cell_type": "code",
   "execution_count": 49,
   "id": "ca56d0b9",
   "metadata": {},
   "outputs": [],
   "source": [
    "class Product:\n",
    "    def __init__(self, type_p, producer, name, details, qty_store,  qty_warehouse, price):\n",
    "        self.type_p = type_p\n",
    "        self.producer = producer\n",
    "        self.name = name\n",
    "        self.details = details\n",
    "        self.qty_store = qty_store\n",
    "        self.qty_warehouse = qty_warehouse\n",
    "        self.price = price\n",
    "\n",
    "    def describe_(self):\n",
    "        return f\"type: \\t\\t{self.type_p}\\nproducer, name: {self.producer} {self.name}\\ndetails:  \\t{self.details}\\n- - -\\nqty of store: \\t{self.qty_store}\\nqty warehouse: \\t{self.qty_warehouse}\\nprice:  \\t{self.price} PLN\\n\"\n",
    "\n",
    "    def move_to_store(self, qty):\n",
    "        if qty <= self.qty_warehouse:\n",
    "            self.qty_warehouse -= qty\n",
    "            self.qty_store += qty\n",
    "        else:\n",
    "            return f\"Quantity is too much! In the warhouse is {self.qty_warehouse} products\"\n",
    "    \n",
    "    def move_to_warehouse(self, qty):\n",
    "        if qty <= self.qty_store:\n",
    "            self.qty_store -= qty\n",
    "            self.qty_warehouse += qty\n",
    "        else:\n",
    "            return f\"Quantity is too much! In the warhouse is {self.qty_warehouse} products\"\n",
    "    \n",
    "    def check_av(self):\n",
    "        if self.qty_store > 0 and self.qty_warehouse > 0:\n",
    "            return f\"Product available in both\\nstore \\t\\t{self.qty_store}\\nwarehouse\\t{self.qty_warehouse}\\n\"\n",
    "        elif self.qty_store > 0 and self.qty_warehouse == 0:\n",
    "            return f\"Product available only in store\\nstore \\t\\t{self.qty_store}\\nwarehouse\\t{self.qty_warehouse} ! Attention\\n\"\n",
    "        elif self.qty_store == 0 and self.qty_warehouse > 0:\n",
    "            return f\"Product available only in warehouse\\nstore \\t\\t{self.qty_store} ! Attention\\nwarehouse\\t{self.qty_warehouse}\\n\"\n",
    "        else:\n",
    "            return f\"Product not available!\"\n",
    "\n",
    "    def sell_(self, qty_sell):\n",
    "        if qty_sell <= self.qty_store:\n",
    "            self.qty_store -= qty_sell\n",
    "        else:\n",
    "            return f\"Value is too much - in Your store we have have only {self.qty_store} pieces\"\n",
    "    \n",
    "    def product_delivered(self, qty):\n",
    "        self.qty_warehouse += qty\n"
   ]
  },
  {
   "cell_type": "markdown",
   "id": "b54e2a4e",
   "metadata": {},
   "source": [
    "#### Poniżej dodałem kilka przykładowych produktów do mojego sklepu"
   ]
  },
  {
   "cell_type": "code",
   "execution_count": 50,
   "id": "c7d1c82a",
   "metadata": {},
   "outputs": [],
   "source": [
    "product0001 = Product('Monitor', 'LG', 'Flatron W224', 'inches: 19, ports: HDMI / DVI / TV, color: silver', 0, 0, 650)\n",
    "product0002 = Product('Monitor', 'DELL', 'E2720HS LED', 'inches: 24, ports: HDMI / DVI, color: black', 80, 4, 899.99)\n",
    "product0003 = Product('Graphic Card', 'NVidia', 'GeForce GTX860x', '5000 Mhz, max mem: 4096 MB', 1, 20, 500)\n",
    "product0004 = Product('Graphic of Sound', 'Creative', 'SoundBlaster', 'interface: PCI-express, sound-system: 5.1', 21, 93, 200)\n",
    "product0005 = Product('Accessories', 'Natec', 'keyboard: qwerty', 'port: USB', 31, 103, 60)\n",
    "product0006 = Product('Accessories', 'Natec', 'mouse', 'port: USB', 78, 230, 40)\n",
    "product0007 = Product('Motherboad', 'Gigabyte', 'GA-78LMT-USB3', 'ports: 3xUSB, 3xusb3, hdmi, dvi', 3, 6, 300)\n",
    "product0008 = Product('Memory', 'Creative', 'USB stick', 'port: USB, color: silver, capacirty 1 GB', 9, 16, 90)"
   ]
  },
  {
   "cell_type": "markdown",
   "id": "b5eaf59a",
   "metadata": {},
   "source": [
    "#### Przykładowe wyświetlenie, przyjętych wcześniej produktów"
   ]
  },
  {
   "cell_type": "code",
   "execution_count": 51,
   "id": "6cfc170c",
   "metadata": {},
   "outputs": [
    {
     "name": "stdout",
     "output_type": "stream",
     "text": [
      "type: \t\tMonitor\n",
      "producer, name: LG Flatron W224\n",
      "details:  \tinches: 19, ports: HDMI / DVI / TV, color: silver\n",
      "- - -\n",
      "qty of store: \t0\n",
      "qty warehouse: \t0\n",
      "price:  \t650 PLN\n",
      "\n",
      "type: \t\tMonitor\n",
      "producer, name: DELL E2720HS LED\n",
      "details:  \tinches: 24, ports: HDMI / DVI, color: black\n",
      "- - -\n",
      "qty of store: \t80\n",
      "qty warehouse: \t4\n",
      "price:  \t899.99 PLN\n",
      "\n",
      "type: \t\tGraphic Card\n",
      "producer, name: NVidia GeForce GTX860x\n",
      "details:  \t5000 Mhz, max mem: 4096 MB\n",
      "- - -\n",
      "qty of store: \t1\n",
      "qty warehouse: \t20\n",
      "price:  \t500 PLN\n",
      "\n",
      "type: \t\tGraphic of Sound\n",
      "producer, name: Creative SoundBlaster\n",
      "details:  \tinterface: PCI-express, sound-system: 5.1\n",
      "- - -\n",
      "qty of store: \t21\n",
      "qty warehouse: \t93\n",
      "price:  \t200 PLN\n",
      "\n",
      "type: \t\tAccessories\n",
      "producer, name: Natec keyboard: qwerty\n",
      "details:  \tport: USB\n",
      "- - -\n",
      "qty of store: \t31\n",
      "qty warehouse: \t103\n",
      "price:  \t60 PLN\n",
      "\n",
      "type: \t\tAccessories\n",
      "producer, name: Natec mouse\n",
      "details:  \tport: USB\n",
      "- - -\n",
      "qty of store: \t78\n",
      "qty warehouse: \t230\n",
      "price:  \t40 PLN\n",
      "\n",
      "type: \t\tMotherboad\n",
      "producer, name: Gigabyte GA-78LMT-USB3\n",
      "details:  \tports: 3xUSB, 3xusb3, hdmi, dvi\n",
      "- - -\n",
      "qty of store: \t3\n",
      "qty warehouse: \t6\n",
      "price:  \t300 PLN\n",
      "\n",
      "type: \t\tMemory\n",
      "producer, name: Creative USB stick\n",
      "details:  \tport: USB, color: silver, capacirty 1 GB\n",
      "- - -\n",
      "qty of store: \t9\n",
      "qty warehouse: \t16\n",
      "price:  \t90 PLN\n",
      "\n"
     ]
    }
   ],
   "source": [
    "print(product0001.describe_())\n",
    "print(product0002.describe_())\n",
    "print(product0003.describe_())\n",
    "print(product0004.describe_())\n",
    "print(product0005.describe_())\n",
    "print(product0006.describe_())\n",
    "print(product0007.describe_())\n",
    "print(product0008.describe_())"
   ]
  },
  {
   "cell_type": "markdown",
   "id": "6ab1b886",
   "metadata": {},
   "source": [
    "W celu obsługi sklepu przyjęto metody opisane w drugiej komórce kodu. \n",
    "Wywołanie metody describe_ dla poszczególnego produktu spowoduje wyświetlenie informacji nt danego produktu. W przypadku sklepu przyda się z pewnością metoda 'move_to_store', która po wpisaniu ilości jako argumentu, \"zdejmie\" tą ilość z magazynu i przeniesie ją do sklepu. W przypadku niewłaściwej ilości, dostaniemy info o nieprawidłowej wartości. W drugą stronę działa metoda 'move_to_warehouse', która przenosi sztuki ze sklepu na magazyn. W przypadku sprzedaży używamy metody 'sell_', która \"zdejmuje\" stan ze sklepu. W przypadku próby sprzedaży zbyt dużej ilości sztuk produktu - zwraca informację. Przyjęcie towarów do magazynu realizowane jest przy pomocy metody 'product_delivered'. Jako argument przyjmowana jest ilość, która zwiększy stany magazynowe."
   ]
  },
  {
   "cell_type": "code",
   "execution_count": null,
   "id": "2369b61d",
   "metadata": {},
   "outputs": [],
   "source": []
  }
 ],
 "metadata": {
  "hide_input": false,
  "kernelspec": {
   "display_name": "Python 3",
   "language": "python",
   "name": "python3"
  },
  "language_info": {
   "codemirror_mode": {
    "name": "ipython",
    "version": 3
   },
   "file_extension": ".py",
   "mimetype": "text/x-python",
   "name": "python",
   "nbconvert_exporter": "python",
   "pygments_lexer": "ipython3",
   "version": "3.8.8"
  }
 },
 "nbformat": 4,
 "nbformat_minor": 5
}
