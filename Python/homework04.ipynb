{
 "cells": [
  {
   "cell_type": "markdown",
   "metadata": {},
   "source": [
    "### Zadanie\n",
    "\n",
    "Otrzymaliśmy dane w następującej postaci: \"{dzień tygodnia};{cztery znaki zawierające wskazanie czujnika}\" (zawsze są to 4 znaki!).\n",
    "Napisz skrypt, który wygeneruje raport z konkretnego dnia na prośbę użytkownika:\n",
    "\n",
    "1. Poproś o podanie dnia dla którego ma zostać wyliczony raport (wielkość liter nie powinna mieć znaczenia) (25%)\n",
    "2. Pobierz odpowiednią wartość z danych (20%)\n",
    "3. Przelicz wskazanie czujnika na temperaturę dzieląc przez wartość z tabeli (20%)\n",
    "4. Wypisz temperaturę z dokładnością do trzeciego miejsca po przecinku (tak jak na przykładzie) i ze znakiem specjalnym ℃ (\\u2103) (20%)\n",
    "5. Do punktu 1 dodaj walidację - upewnij się, że użytkownik podał jeden z dni który możemy znaleźć w danych (15%)\n",
    "6. BONUS: Do punktu 4 dodaj wizualizację temperatury w zakresie 0 do 100 stopni na pasku złożonym z 20 znaków (np. dla 50 stopni, zapełnione jest 10/20 znaków) (niespodzianka)\n",
    "\n",
    "\n",
    "##### Tabela przeliczania\n",
    "\n",
    "```\n",
    "Wskazanie czujnika - przelicznik:\n",
    "\n",
    "Większe niż, lub równe 1400 - 22.5\n",
    "Pomiędzy 1400, a 1200 - 23.1\n",
    "Mniejsze niż, lub równe 1200 - 23.5\n",
    "```"
   ]
  },
  {
   "cell_type": "code",
   "execution_count": 2,
   "metadata": {},
   "outputs": [],
   "source": [
    "data = \"\"\"\n",
    "monday;1250\n",
    "tuesday;1405\n",
    "wednesday;1750\n",
    "thursday;1100\n",
    "friday;0800\n",
    "saturday;1225\n",
    "sunday;1355\n",
    "\"\"\""
   ]
  },
  {
   "cell_type": "code",
   "execution_count": 9,
   "metadata": {},
   "outputs": [
    {
     "name": "stdout",
     "output_type": "stream",
     "text": [
      "Podaj dzień, dla którego mam wygenerować raport (nazwę dnia wpisz po angielsku): wednesday\n",
      "\n",
      "Dane dla \"wednesday\"\n",
      "Wskazanie czujnika: 1750\n",
      "Temperatura: 77.778℃\n",
      "0℃ |###############-----| 100℃\n"
     ]
    }
   ],
   "source": [
    "day = input('Podaj dzień, dla którego mam wygenerować raport (nazwę dnia wpisz po angielsku): ')\n",
    "day = day.lower()\n",
    "index1 = int(data.find(day)+len(day)+1)\n",
    "index2 = int(index1+5)\n",
    "# Dałem poniżej warunki dzięki, którym chcę wyeliminować większość niepoprawnych wpisów do input - tj. np. skrótów, które python znajdzie w bloku tekstowym, ale wtedy niekoniecznie wyjdzie z tego coś sensownego. Trzy warunki poniżej prawie wszystkie, niewłaściwe nazwy dni powinny eliminować.\n",
    "if day not in data or len(day) < 6 or day[-1] != 'y':\n",
    "    print(f\"\\nNieprawidłowa nazwa dnia! Nie mam w swojej bazie: \\\"{day}\\\"\")\n",
    "else:\n",
    "    value = int(data[index1:index2])\n",
    "    print(f\"\\nDane dla \\\"{day}\\\"\")\n",
    "    print(f\"Wskazanie czujnika: {value}\")\n",
    "    if value >= 1400: \n",
    "        temp = value/22.5\n",
    "        print(f\"Temperatura: {round(temp,3)}\\u2103\")\n",
    "    elif 1400 > value > 1200: \n",
    "        temp = value/23.1\n",
    "        print(f\"Temperatura: {round(temp,3)}\\u2103\")\n",
    "    elif value <= 1200: \n",
    "        temp = value/23.5\n",
    "        print(f\"Temperatura: {round(temp,3)}\\u2103\")\n",
    "    graph = int(temp//5)\n",
    "    print(\"0\\u2103 |\"+'#'*graph+'-'*(20-graph)+\"| 100\\u2103\")"
   ]
  },
  {
   "cell_type": "markdown",
   "metadata": {},
   "source": [
    "Przykładowe wyjście\n",
    "\n",
    "```\n",
    "Dane dla \"thursday\"\n",
    "Wskazanie czujnika: 1100\n",
    "Temperatura: 46.809℃\n",
    "0℃ |#########-----------| 100℃  # BONUS\n",
    "```"
   ]
  },
  {
   "cell_type": "code",
   "execution_count": null,
   "metadata": {},
   "outputs": [],
   "source": []
  },
  {
   "cell_type": "code",
   "execution_count": null,
   "metadata": {},
   "outputs": [],
   "source": []
  },
  {
   "cell_type": "code",
   "execution_count": null,
   "metadata": {},
   "outputs": [],
   "source": []
  },
  {
   "cell_type": "code",
   "execution_count": null,
   "metadata": {},
   "outputs": [],
   "source": []
  }
 ],
 "metadata": {
  "kernelspec": {
   "display_name": "Python 3",
   "language": "python",
   "name": "python3"
  },
  "language_info": {
   "codemirror_mode": {
    "name": "ipython",
    "version": 3
   },
   "file_extension": ".py",
   "mimetype": "text/x-python",
   "name": "python",
   "nbconvert_exporter": "python",
   "pygments_lexer": "ipython3",
   "version": "3.8.8"
  }
 },
 "nbformat": 4,
 "nbformat_minor": 4
}
